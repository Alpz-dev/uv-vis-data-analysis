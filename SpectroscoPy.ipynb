{
  "nbformat": 4,
  "nbformat_minor": 0,
  "metadata": {
    "colab": {
      "name": "SpectroscoPy.ipynb",
      "provenance": [],
      "collapsed_sections": [],
      "toc_visible": true,
      "authorship_tag": "ABX9TyOePq6K3v+3vmAvaD1TBMZc",
      "include_colab_link": true
    },
    "kernelspec": {
      "name": "python3",
      "display_name": "Python 3"
    }
  },
  "cells": [
    {
      "cell_type": "markdown",
      "metadata": {
        "id": "view-in-github",
        "colab_type": "text"
      },
      "source": [
        "<a href=\"https://colab.research.google.com/github/Alpz-dev/uv-vis-data-analysis/blob/master/SpectroscoPy.ipynb\" target=\"_parent\"><img src=\"https://colab.research.google.com/assets/colab-badge.svg\" alt=\"Open In Colab\"/></a>"
      ]
    },
    {
      "cell_type": "markdown",
      "metadata": {
        "id": "o2ENyg3rbAZX",
        "colab_type": "text"
      },
      "source": [
        "SpectroscoPy Source Code"
      ]
    },
    {
      "cell_type": "code",
      "metadata": {
        "id": "TgdgXb2TbXZ-",
        "colab_type": "code",
        "colab": {}
      },
      "source": [
        "minX = 0#@param {type:\"number\"}\n",
        "minY = 0#@param {type: \"number\"}\n",
        "\n",
        "\n"
      ],
      "execution_count": 23,
      "outputs": []
    },
    {
      "cell_type": "code",
      "metadata": {
        "id": "-bIlT98hYVbw",
        "colab_type": "code",
        "colab": {}
      },
      "source": [
        "import matplotlib.pyplot as plt\n",
        "from scipy import signal\n",
        "import numpy as np\n",
        "import random\n",
        "import string"
      ],
      "execution_count": null,
      "outputs": []
    },
    {
      "cell_type": "code",
      "metadata": {
        "id": "JZFDcynBYcHY",
        "colab_type": "code",
        "colab": {}
      },
      "source": [
        "class Data(object):\n",
        "    def __init__(self, x, y):\n",
        "        self.x = np.array(x)\n",
        "        self.y = np.array(y)\n",
        "        self.peaks = []\n",
        "\n",
        "    # Very basic plotting to test data changes\n",
        "    def plot(self, figure, title='', start_x=None, end_x=None):\n",
        "        try:\n",
        "            tmp_y_data = self.y[int(start_x - self.x[0]):int((end_x + 1) - self.x[0])]\n",
        "        except TypeError:\n",
        "            tmp_y_data = self.y\n",
        "        try:\n",
        "            tmp_x_data = self.x[int(start_x - self.x[0]):int((end_x + 1) - self.x[0])]\n",
        "        except TypeError:\n",
        "            tmp_x_data = self.x\n",
        "        plt.figure(figure)\n",
        "        plt.title(str(title))\n",
        "        return plt.plot(tmp_x_data, tmp_y_data)\n",
        "\n",
        "    # Finds the average value of y across an x range\n",
        "    def mean(self, start_x=None, end_x=None):\n",
        "        try:\n",
        "            tmp_data = self.y[int(start_x - self.x[0]):int((end_x + 1) - self.x[0])]\n",
        "        except TypeError:\n",
        "            tmp_data = self.y\n",
        "        return np.mean(tmp_data)\n",
        "\n",
        "    # Finds standard deviation of y across an x range\n",
        "    def std(self, start_x=None, end_x=None):\n",
        "        try:\n",
        "            tmp_data = self.y[int(start_x - self.x[0]):int((end_x + 1) - self.x[0])]\n",
        "        except TypeError:\n",
        "            tmp_data = self.y\n",
        "        return np.std(tmp_data)\n",
        "\n",
        "    # Finds the signal to noise ratio of y across an x range\n",
        "    # Compares the mean of the data (taken as the ground truth) to the standard deviation\n",
        "    # Note: ideal for flat or constant sections of data (possible to use 1st or 2nd derivative if no constant section\n",
        "    # in base data\n",
        "    def snr(self, start_x=None, end_x=None):\n",
        "        mean = abs(self.mean(start_x=start_x, end_x=end_x))\n",
        "        std = self.std(start_x=start_x, end_x=end_x)\n",
        "        SNR = mean / std\n",
        "        return SNR / (1 + SNR)\n",
        "\n",
        "    # Applies the savgol filter from the SciPy package across an x range\n",
        "    def savgol_filter(self, window, order, deriv=0, start_x=None, end_x=None):\n",
        "        deriv_pass = deriv\n",
        "        try:\n",
        "            tmp_data = self.y[int(start_x - self.x[0]):int((end_x + 1) - self.x[0])]\n",
        "        except TypeError:\n",
        "            tmp_data = self.y\n",
        "        return Data(self.x, np.array(signal.savgol_filter(tmp_data, window, order, deriv=deriv_pass)))\n",
        "\n",
        "    # Finds the error between two data sets across an x range\n",
        "    def err(self, edited_data, start_x=None, end_x=None):\n",
        "        try:\n",
        "            start_i = int(start_x - self.x[0])\n",
        "            end_i = int((end_x + 1) - self.x[0])\n",
        "        except TypeError:\n",
        "            start_i = 0\n",
        "            end_i = len(self.x) - 1\n",
        "        err = 0\n",
        "        for i in range(start_i, end_i + 1):\n",
        "            r = (self.y[i] - edited_data.y[i]) ** 2\n",
        "            err += r\n",
        "        return err\n",
        "\n",
        "    # Finds the nearest odd of an integer\n",
        "    # Defaults to nearest odd <= integer\n",
        "    def nearest_odd(self, int, round_down=True):\n",
        "        if int % 2 == 1:\n",
        "            return int\n",
        "        else:\n",
        "            if round_down == True:\n",
        "                return int - 1\n",
        "            else:\n",
        "                return int + 1\n",
        "\n",
        "    # Adds simulated noise to a data set using a random gaussian distribution\n",
        "    def sim_noise(self, level):\n",
        "        tmp_vals = []\n",
        "        for i in range(len(self.y)):\n",
        "            tmp_vals.append(random.gauss(self.y[i], self.y[i] * (level / 100)))\n",
        "        return Data(self.x, tmp_vals)\n",
        "\n",
        "    # Naive search for the optimized values for the savgol filter function\n",
        "    # Finds all possible values and finds the smallest measure\n",
        "    # Measure = Error / (SNR^2) <- minimize error and maximize signal to noise ratio\n",
        "    # Note: Can be slow for very large ranges\n",
        "    def optimized_smooth(self, err_range, snr_range):\n",
        "        measures = []\n",
        "        index = []\n",
        "        testVals = []\n",
        "        for i in range(3, self.nearest_odd((len(self.x)) // 20), 2):\n",
        "            for j in range(1, min(i - 1, 5)):\n",
        "                tmp_smooth_data = self.savgol_filter(i, j)\n",
        "                tmp_smooth_data_deriv = self.savgol_filter(i, j, deriv=1)\n",
        "                err = self.err(tmp_smooth_data, start_x=err_range[0], end_x=err_range[1])\n",
        "                SNR = tmp_smooth_data_deriv.snr(start_x=snr_range[0], end_x=snr_range[1])\n",
        "                measures.append(err / (SNR ** 2))\n",
        "                index.append((i, j))\n",
        "                testVals.append((err, SNR))\n",
        "        vals = index[measures.index(min(measures))]\n",
        "        return self.savgol_filter(vals[0], vals[1])\n",
        "    # Recursively finds the maximum y value within a given delta of an x value\n",
        "    def isMaxinDelta(self, i, delta=200):\n",
        "        first = 0\n",
        "        last = len(self.x) - 1\n",
        "        start = max(first, i - delta)\n",
        "        end = min(last, i + delta)\n",
        "        Max = self.y[i]\n",
        "        print(Max, 'CHECKING', self.x[i], 'DELTA', (start, end))\n",
        "        for j in range(start, end):\n",
        "            if Max < self.y[j]:\n",
        "                Max = self.y[j]\n",
        "                print('RECURSE', Max, self.x[j])\n",
        "                return self.isMaxinDelta(j, delta=delta)\n",
        "        print(self.x[i], 'SUCCESS')\n",
        "        self.peaks.append(self.x[i])\n",
        "        return True\n",
        "\n",
        "    # WIP\n",
        "    # Locates peaks using a smooth 1st derivative\n",
        "    def findLocalMaxima(self):\n",
        "        deriv1 = self.optimized_smooth(35, 2, deriv=1)\n",
        "        for i in range(len(deriv1.y) - 1):\n",
        "            y1 = deriv1.y[i]\n",
        "            y2 = deriv1.y[i + 1]\n",
        "            if (y1 > 0 and y2 < 0) and (self.isMaxinDelta(i)):\n",
        "                # self.peaks.append(self.data['X'][i])\n",
        "                pass"
      ],
      "execution_count": null,
      "outputs": []
    },
    {
      "cell_type": "code",
      "metadata": {
        "id": "PcSDCCUiYiUE",
        "colab_type": "code",
        "colab": {}
      },
      "source": [
        "# Imports *.txt UV-Vis data from the Agilent ChemStation v10.0.1 software for Windows XP\n",
        "# Creates a data obj containing x and y values from the file\n",
        "def import_data(fileName):\n",
        "    data = open(fileName, \"r\")\n",
        "    x = []\n",
        "    y = []\n",
        "    for line in data.read().splitlines():\n",
        "        hasAlpha = False\n",
        "        for char in line:\n",
        "            if char.isalpha():\n",
        "                hasAlpha = True\n",
        "                break\n",
        "        if hasAlpha == False:\n",
        "            for i in range(len(line)):\n",
        "                if line[i].isspace():\n",
        "                    x_val = float(line[:i].replace(',', ''))\n",
        "                    y_val = float(line[i + 1:].replace(',', ''))\n",
        "                    x.append(x_val)\n",
        "                    y.append(y_val)\n",
        "    return Data(x, y)\n"
      ],
      "execution_count": null,
      "outputs": []
    },
    {
      "cell_type": "code",
      "metadata": {
        "id": "bYMW7aT9Ymex",
        "colab_type": "code",
        "colab": {}
      },
      "source": [
        "data = import_data(\"Ni4_TLC_Raw.txt\")\n",
        "smoothdata = data.optimized_smooth((300, 800), (800, 1000))\n",
        "\n",
        "smoothdata.plot(1, start_x=300, end_x=800)\n",
        "data.plot(1, start_x=300, end_x=800)\n",
        "plt.show()"
      ],
      "execution_count": null,
      "outputs": []
    }
  ]
}